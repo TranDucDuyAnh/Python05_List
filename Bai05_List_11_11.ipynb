{
  "nbformat": 4,
  "nbformat_minor": 0,
  "metadata": {
    "colab": {
      "provenance": [],
      "authorship_tag": "ABX9TyPLb+m3Udjs7ekq1K70lwn8",
      "include_colab_link": true
    },
    "kernelspec": {
      "name": "python3",
      "display_name": "Python 3"
    },
    "language_info": {
      "name": "python"
    }
  },
  "cells": [
    {
      "cell_type": "markdown",
      "metadata": {
        "id": "view-in-github",
        "colab_type": "text"
      },
      "source": [
        "<a href=\"https://colab.research.google.com/github/TranDucDuyAnh/Python05_List/blob/main/Bai05_List_11_11.ipynb\" target=\"_parent\"><img src=\"https://colab.research.google.com/assets/colab-badge.svg\" alt=\"Open In Colab\"/></a>"
      ]
    },
    {
      "cell_type": "markdown",
      "source": [
        "1. Tạo x rỗng"
      ],
      "metadata": {
        "id": "Ly-I5Ct2fvY6"
      }
    },
    {
      "cell_type": "code",
      "execution_count": null,
      "metadata": {
        "id": "dlkPik-JfiNT"
      },
      "outputs": [],
      "source": [
        "x = []"
      ]
    },
    {
      "cell_type": "markdown",
      "source": [
        "2. Thêm 18 vào x"
      ],
      "metadata": {
        "id": "r7ogSBp4f1Ep"
      }
    },
    {
      "cell_type": "code",
      "source": [
        "x.append(18)"
      ],
      "metadata": {
        "id": "kSafHosPf6rM"
      },
      "execution_count": null,
      "outputs": []
    },
    {
      "cell_type": "markdown",
      "source": [
        "3. Thêm \"Huế\" vào x"
      ],
      "metadata": {
        "id": "Ku0XvlGFf-9w"
      }
    },
    {
      "cell_type": "code",
      "source": [
        "x.append(\"Huế\")"
      ],
      "metadata": {
        "id": "P60SMCQcgFdI"
      },
      "execution_count": null,
      "outputs": []
    },
    {
      "cell_type": "markdown",
      "source": [
        "4. Tạo list y"
      ],
      "metadata": {
        "id": "CJnV2vOmgNbh"
      }
    },
    {
      "cell_type": "code",
      "source": [
        "y = [12, 45, -1, -0.56, \"abc\"]"
      ],
      "metadata": {
        "id": "7XjyW3G-gTWB"
      },
      "execution_count": null,
      "outputs": []
    },
    {
      "cell_type": "markdown",
      "source": [
        "5. Thêm y vào x"
      ],
      "metadata": {
        "id": "_J_ZcF5jguiw"
      }
    },
    {
      "cell_type": "code",
      "source": [
        "x.extend(y)"
      ],
      "metadata": {
        "id": "tsco8BG1gxdJ"
      },
      "execution_count": null,
      "outputs": []
    },
    {
      "cell_type": "markdown",
      "source": [
        "6. Xuất x"
      ],
      "metadata": {
        "id": "OdJa8sXmg4Lh"
      }
    },
    {
      "cell_type": "code",
      "source": [
        "print(x)"
      ],
      "metadata": {
        "colab": {
          "base_uri": "https://localhost:8080/"
        },
        "id": "wmy6sO3HhD4Z",
        "outputId": "6c3e1163-2410-4aa7-dbe0-5b478ffb3c90"
      },
      "execution_count": null,
      "outputs": [
        {
          "output_type": "stream",
          "name": "stdout",
          "text": [
            "[18, 'Huế', 12, 45, -1, -0.56, 'abc']\n"
          ]
        }
      ]
    },
    {
      "cell_type": "markdown",
      "source": [
        "7. In phần tử cuối và đầu của x"
      ],
      "metadata": {
        "id": "z9kEoYs1hFVo"
      }
    },
    {
      "cell_type": "code",
      "source": [
        "print(x[-1])\n",
        "print(x[0])"
      ],
      "metadata": {
        "colab": {
          "base_uri": "https://localhost:8080/"
        },
        "id": "gFwLUqQahVBp",
        "outputId": "24692887-df95-4ee6-a34a-548c105ad5d7"
      },
      "execution_count": null,
      "outputs": [
        {
          "output_type": "stream",
          "name": "stdout",
          "text": [
            "abc\n",
            "18\n"
          ]
        }
      ]
    },
    {
      "cell_type": "markdown",
      "source": [
        "8. In phần tử đầu tiên đến thứ 5 của x"
      ],
      "metadata": {
        "id": "QY9ermxIheVZ"
      }
    },
    {
      "cell_type": "code",
      "source": [
        "x[:5]"
      ],
      "metadata": {
        "colab": {
          "base_uri": "https://localhost:8080/"
        },
        "id": "sgffWWoAhj6o",
        "outputId": "f674b6c5-01e0-4dc7-da76-1eb18413775a"
      },
      "execution_count": null,
      "outputs": [
        {
          "output_type": "execute_result",
          "data": {
            "text/plain": [
              "[18, 'Huế', 12, 45, -1]"
            ]
          },
          "metadata": {},
          "execution_count": 8
        }
      ]
    },
    {
      "cell_type": "markdown",
      "source": [
        "9. In phần tử thứ 3 đến cuối cùng của x"
      ],
      "metadata": {
        "id": "VlZwvUl7hoPx"
      }
    },
    {
      "cell_type": "code",
      "source": [
        "x[2:]"
      ],
      "metadata": {
        "colab": {
          "base_uri": "https://localhost:8080/"
        },
        "id": "X0AZCuouhvwx",
        "outputId": "7695609d-3fcf-4422-c215-117ca4f6656e"
      },
      "execution_count": null,
      "outputs": [
        {
          "output_type": "execute_result",
          "data": {
            "text/plain": [
              "[12, 45, -1, -0.56, 'abc']"
            ]
          },
          "metadata": {},
          "execution_count": 9
        }
      ]
    }
  ]
}